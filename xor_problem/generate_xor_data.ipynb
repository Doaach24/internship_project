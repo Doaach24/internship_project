{
 "cells": [
  {
   "cell_type": "code",
   "execution_count": 3,
   "id": "1c2b1c5e-0b45-44bc-91bf-ba41e740c20a",
   "metadata": {},
   "outputs": [],
   "source": [
    "import itertools\n",
    "import pandas as pd"
   ]
  },
  {
   "cell_type": "code",
   "execution_count": 5,
   "id": "7c6c6fc4-d02f-4bcd-bb3c-59238f173bcc",
   "metadata": {},
   "outputs": [],
   "source": [
    "def xor_bits(bits):\n",
    "    result = 0\n",
    "    for b in bits:\n",
    "        result ^= b\n",
    "    return result\n"
   ]
  },
  {
   "cell_type": "code",
   "execution_count": 7,
   "id": "b8fc0fa0-59dd-4912-8d97-c12ee04991a1",
   "metadata": {},
   "outputs": [],
   "source": [
    "def generate_xor_dataframe(n_inputs):\n",
    "    X = list(itertools.product([0,1], repeat=n_inputs))\n",
    "    data = []\n",
    "    for row in X:\n",
    "        y = xor_bits(row)\n",
    "        data.append(list(row) + [y])\n",
    "    columns = [f\"x{i+1}\" for i in range(n_inputs)] + [\"y\"]\n",
    "    return pd.DataFrame(data, columns=columns)"
   ]
  },
  {
   "cell_type": "code",
   "execution_count": 11,
   "id": "5a58f902-ce66-4400-a956-35acb93c7882",
   "metadata": {},
   "outputs": [
    {
     "name": "stdout",
     "output_type": "stream",
     "text": [
      "✅ Created xor_2.csv with 4 rows\n",
      "✅ Created xor_3.csv with 8 rows\n",
      "✅ Created xor_4.csv with 16 rows\n",
      "✅ Created xor_5.csv with 32 rows\n",
      "✅ Created xor_6.csv with 64 rows\n",
      "✅ Created xor_7.csv with 128 rows\n",
      "✅ Created xor_8.csv with 256 rows\n",
      "✅ Created xor_9.csv with 512 rows\n",
      "✅ Created xor_10.csv with 1024 rows\n"
     ]
    }
   ],
   "source": [
    "for n in range(2, 11):\n",
    "    df = generate_xor_dataframe(n)\n",
    "    df.to_csv(f\"xor_{n}.csv\", index=False)\n",
    "    print(f\"✅ Created xor_{n}.csv with {len(df)} rows\")"
   ]
  },
  {
   "cell_type": "code",
   "execution_count": null,
   "id": "d74ede61-0530-4473-9316-d3b1510d8db9",
   "metadata": {},
   "outputs": [],
   "source": []
  }
 ],
 "metadata": {
  "kernelspec": {
   "display_name": "Python [conda env:base] *",
   "language": "python",
   "name": "conda-base-py"
  },
  "language_info": {
   "codemirror_mode": {
    "name": "ipython",
    "version": 3
   },
   "file_extension": ".py",
   "mimetype": "text/x-python",
   "name": "python",
   "nbconvert_exporter": "python",
   "pygments_lexer": "ipython3",
   "version": "3.12.7"
  }
 },
 "nbformat": 4,
 "nbformat_minor": 5
}
